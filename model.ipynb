{
  "cells": [
    {
      "cell_type": "code",
      "execution_count": 1,
      "metadata": {
        "id": "3yHe6zh9iqY2"
      },
      "outputs": [],
      "source": [
        "from tensorflow.keras.models import load_model\n",
        "import matplotlib.pyplot as plt\n",
        "import numpy as np\n",
        "model1 = load_model('saved_model.h5')\n",
        "\n",
        "import requests\n",
        "from PIL import Image\n",
        "from io import BytesIO\n",
        "\n",
        "import cv2\n",
        "\n"
      ]
    },
    {
      "cell_type": "code",
      "execution_count": 2,
      "metadata": {
        "id": "XTetDr54jQ0D"
      },
      "outputs": [],
      "source": [
        "categories = ['dandelion', 'daisy', 'sunflower', 'tulip', 'rose']\n",
        "\n",
        "def process_image(url):\n",
        "    response = requests.get(url)\n",
        "    img = Image.open(BytesIO(response.content))\n",
        "\n",
        "    # Grayscale and normalization\n",
        "    img = np.array(img)\n",
        "    img = cv2.cvtColor(img, cv2.IMREAD_COLOR)\n",
        "    img = img / 255.0\n",
        "\n",
        "    # Resizing\n",
        "    img = cv2.resize(img, (150, 150))\n",
        "\n",
        "    img = np.expand_dims(img, axis=0)\n",
        "    return img\n",
        "\n",
        "def predict(url):\n",
        "    img = process_image(url)\n",
        "    label = model1.predict(img)\n",
        "    final_1 = np.argmax(label, axis=1)[0]\n",
        "    return categories[final_1]\n",
        "\n",
        "\n",
        "\n"
      ]
    },
    {
      "cell_type": "code",
      "execution_count": 3,
      "metadata": {
        "colab": {
          "base_uri": "https://localhost:8080/",
          "height": 53
        },
        "id": "O4dbOWv2loGl",
        "outputId": "c7cd26cf-a626-42aa-8604-61102b2fb1de"
      },
      "outputs": [
        {
          "name": "stdout",
          "output_type": "stream",
          "text": [
            "1/1 [==============================] - 1s 595ms/step\n"
          ]
        },
        {
          "data": {
            "text/plain": [
              "'rose'"
            ]
          },
          "execution_count": 3,
          "metadata": {},
          "output_type": "execute_result"
        }
      ],
      "source": [
        "predict(\"https://st.depositphotos.com/1001236/1914/i/600/depositphotos_19142825-stock-photo-rose-flower.jpg\")"
      ]
    },
    {
      "cell_type": "code",
      "execution_count": 1,
      "metadata": {
        "id": "WwRqEvX9lqvs"
      },
      "outputs": [],
      "source": [
        "from web3 import Web3\n",
        "import json\n"
      ]
    },
    {
      "cell_type": "code",
      "execution_count": 2,
      "metadata": {},
      "outputs": [],
      "source": [
        "ganache_url = \"http://127.0.0.1:7545\"\n",
        "web3 = Web3(Web3.HTTPProvider(ganache_url))\n"
      ]
    },
    {
      "cell_type": "code",
      "execution_count": 3,
      "metadata": {},
      "outputs": [],
      "source": [
        "\n",
        "with open('build/contracts/helloworld.json') as f:\n",
        "    contract_abi = json.load(f)['abi']\n",
        "contract_address = \"0xA4b90C771fFF0a3179392aB4F835E0098654689f\"  # Replace with the deployed contract address\n"
      ]
    },
    {
      "cell_type": "code",
      "execution_count": 4,
      "metadata": {},
      "outputs": [],
      "source": [
        "contract = web3.eth.contract(address=contract_address, abi=contract_abi)\n"
      ]
    },
    {
      "cell_type": "code",
      "execution_count": 5,
      "metadata": {},
      "outputs": [
        {
          "name": "stdout",
          "output_type": "stream",
          "text": [
            "Contract result: dandelion\n"
          ]
        }
      ],
      "source": [
        "result = contract.functions.getPredictedCategory().call()\n",
        "print(\"Contract result:\", result)\n"
      ]
    },
    {
      "cell_type": "code",
      "execution_count": 38,
      "metadata": {},
      "outputs": [
        {
          "name": "stdout",
          "output_type": "stream",
          "text": [
            "1/1 [==============================] - 0s 56ms/step\n",
            "Predicted category: dandelion\n"
          ]
        }
      ],
      "source": [
        "url = \"https://www.pbs.org/wgbh/nova/media/images/shutterstock_617488823.width-2500.jpg\"\n",
        "predicted_category = predict(url)\n",
        "print(\"Predicted category:\", predicted_category)\n"
      ]
    },
    {
      "cell_type": "code",
      "execution_count": 39,
      "metadata": {},
      "outputs": [],
      "source": [
        "sender_address = \"0xf0a8d9890347Db741beEB23455d2210b55D04200\"  \n",
        "\n",
        "tx_hash = contract.functions.setPredictedCategory(predicted_category).transact({\n",
        "    'from': sender_address\n",
        "})\n"
      ]
    },
    {
      "cell_type": "code",
      "execution_count": 40,
      "metadata": {},
      "outputs": [
        {
          "name": "stdout",
          "output_type": "stream",
          "text": [
            "Predicted category on the blockchain: dandelion\n"
          ]
        }
      ],
      "source": [
        "tx_receipt = None\n",
        "while tx_receipt is None:\n",
        "    tx_receipt = web3.eth.get_transaction_receipt(tx_hash)\n",
        "\n",
        "result = contract.functions.getPredictedCategory().call()\n",
        "print(\"Predicted category on the blockchain:\", result)"
      ]
    }
  ],
  "metadata": {
    "colab": {
      "provenance": []
    },
    "kernelspec": {
      "display_name": "Python 3",
      "name": "python3"
    },
    "language_info": {
      "codemirror_mode": {
        "name": "ipython",
        "version": 3
      },
      "file_extension": ".py",
      "mimetype": "text/x-python",
      "name": "python",
      "nbconvert_exporter": "python",
      "pygments_lexer": "ipython3",
      "version": "3.10.9"
    }
  },
  "nbformat": 4,
  "nbformat_minor": 0
}
